{
  "cells": [
    {
      "cell_type": "code",
      "execution_count": 1,
      "id": "030c3a46",
      "metadata": {},
      "outputs": [],
      "source": [
        "import pandas as pd\n",
        "import smtplib\n",
        "from email.mime.text import MIMEText\n",
        "from email.mime.multipart import MIMEMultipart"
      ]
    },
    {
      "cell_type": "code",
      "execution_count": 6,
      "id": "cd80adcf",
      "metadata": {},
      "outputs": [],
      "source": [
        "def send_email(sender_email, sender_password, recipient_email, recipient_name, subject, message):\n",
        "    # Create a multipart message\n",
        "    email_message = MIMEMultipart()\n",
        "    email_message[\"From\"] = sender_email\n",
        "    email_message[\"To\"] = recipient_email\n",
        "    email_message[\"Subject\"] = subject\n",
        "\n",
        "    # Compose the message body\n",
        "    body = f\"Dear {recipient_name},\\n\\n{message}\"\n",
        "    email_message.attach(MIMEText(body, \"plain\"))\n",
        "\n",
        "    # Establish a secure SMTP connection\n",
        "    with smtplib.SMTP_SSL(\"smtp.gmail.com\", 465) as smtp:\n",
        "        try:\n",
        "            # Login to your Gmail account\n",
        "            smtp.login(sender_email, sender_password)\n",
        "\n",
        "            # Send the email\n",
        "            smtp.send_message(email_message)\n",
        "            print(f\"Email sent successfully to {recipient_email}\")\n",
        "        except Exception as e:\n",
        "            print(f\"An error occurred while sending the email to {recipient_email}:\", str(e))\n"
      ]
    },
    {
      "cell_type": "code",
      "execution_count": 7,
      "id": "2f8e4902",
      "metadata": {},
      "outputs": [
        {
          "name": "stdout",
          "output_type": "stream",
          "text": [
            "Email sent successfully to mane2@gmail.com\n",
            "Email sent successfully to name3@gmail.com\n"
          ]
        }
      ],
      "source": [
        "# Example usage\n",
        "sender_email = \"name@gmail.com\"\n",
        "sender_password = \"fdhgjjjg\"\n",
        "subject = \"Testing email\"\n",
        "message = \"This is a test email sent from Python.\"\n",
        "\n",
        "# Read data from Excel file\n",
        "df = pd.read_excel(\"emails.xlsx\")  # Replace \"emails.xlsx\" with the actual filename\n",
        "\n",
        "# Iterate over each row in the dataframe\n",
        "for index, row in df.iterrows():\n",
        "    recipient_name = row[\"Name\"]\n",
        "    recipient_email = row[\"Email\"]\n",
        "\n",
        "    send_email(sender_email, sender_password, recipient_email, recipient_name, subject, message)\n"
      ]
    }
  ],
  "metadata": {
    "kernelspec": {
      "display_name": "Python 3 (ipykernel)",
      "language": "python",
      "name": "python3"
    },
    "language_info": {
      "codemirror_mode": {
        "name": "ipython",
        "version": 3
      },
      "file_extension": ".py",
      "mimetype": "text/x-python",
      "name": "python",
      "nbconvert_exporter": "python",
      "pygments_lexer": "ipython3",
      "version": "3.9.12"
    }
  },
  "nbformat": 4,
  "nbformat_minor": 5
}
